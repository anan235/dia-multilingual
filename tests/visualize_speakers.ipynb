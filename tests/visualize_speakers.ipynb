import torch
import torchaudio
from tools.speaker_encoder import SpeakerEncoder
import matplotlib.pyplot as plt
import seaborn as sns
from sklearn.decomposition import PCA

# Load ECAPA encoder
encoder = SpeakerEncoder()

# Define your speaker sample paths
paths = {
    "EN Male": "samples/en_male.wav",
    "EN Female": "samples/en_female.wav",
    "ES Male": "samples/es_male.wav",
    "ES Female": "samples/es_female.wav",
}

# Encode
embeddings = {}
for name, path in paths.items():
    try:
        vec = encoder.encode(path).squeeze().numpy()
        embeddings[name] = vec
    except Exception as e:
        print(f"❌ Failed: {name} ({path}):", str(e))

# Reduce to 2D
if embeddings:
    pca = PCA(n_components=2)
    X = list(embeddings.values())
    names = list(embeddings.keys())
    coords = pca.fit_transform(X)

    # Plot
    plt.figure(figsize=(6, 6))
    sns.scatterplot(x=coords[:,0], y=coords[:,1], hue=names, s=150)
    plt.title("Speaker Embedding Space (PCA)")
    plt.xlabel("PC 1")
    plt.ylabel("PC 2")
    plt.grid(True)
    plt.show()